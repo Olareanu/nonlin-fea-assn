{
 "cells": [
  {
   "cell_type": "markdown",
   "metadata": {},
   "source": [
    "<sub><sup>Copyright (C) 2025 J. Heinzmann, A. Benady, ETH Zürich</sub></sup>\n",
    "\n",
    "<sub><sup>\n",
    "This file is part of the `nlfea` package for the course Computational Mechanics II: Nonlinear FEA at ETH Zurich.\n",
    "This software is exclusively intended for personal, educational purposes only in the context of the above course.\n",
    "It must not be used outside of this scope without the explicit consent of the author(s).\n",
    "</sub></sup>\n",
    "\n",
    "# Project 3\n",
    "\n",
    "The third project revolves around the FE implementation of non-linear continuum mechanics and hyperelasticity.\n",
    "\n",
    "This notebook will guide you through all the necessary steps."
   ]
  },
  {
   "cell_type": "markdown",
   "metadata": {},
   "source": [
    "## 1. Implementation of non-linear continuum mechanics"
   ]
  },
  {
   "cell_type": "markdown",
   "metadata": {},
   "source": [
    "We start with the implementation of continuum elements with large deformations.\n",
    "For this, we'll use a simple rectangular block under tension with a St. Venant Kirchhoff material model for which we create the setup below."
   ]
  },
  {
   "cell_type": "code",
   "execution_count": null,
   "metadata": {},
   "outputs": [],
   "source": [
    "# external dependencies\n",
    "import numpy as np\n",
    "\n",
    "# internal dependencies\n",
    "from nlfea import Model, Solver, mesh, materials, elements, solution, post\n",
    "\n",
    "# initialize empty model object\n",
    "model_SVK = Model()\n",
    "\n",
    "# mesh\n",
    "W = 10\n",
    "L = 100\n",
    "(model_SVK.nodes, model_SVK.connectivity) = mesh.plane.rectangle(\n",
    "    length_x=W, length_y=L, num_nodes_x=10, num_nodes_y=50, element_type=\"quad4\"\n",
    ")\n",
    "\n",
    "# define material model\n",
    "model_SVK.material = materials.StVenantKirchhoff(λ=121, μ=80)\n",
    "\n",
    "# define type of element\n",
    "model_SVK.parent_element = elements.Quad(\n",
    "    kinematics=\"nonlinear\", element_type=\"quad4\", integration=\"full\"\n",
    ")\n",
    "\n",
    "\n",
    "# find node sets for the application of BCs\n",
    "bottom_edge = mesh.nodesets.find(model_SVK.nodes, Y=0)\n",
    "bottom_leftcorner = mesh.nodesets.find(model_SVK.nodes, X=0, Y=0)\n",
    "top_edge = mesh.nodesets.find(model_SVK.nodes, Y=L)\n",
    "\n",
    "# Dirichlet BCs\n",
    "model_SVK.dirichlet_bcs = ((\"fix_X\", bottom_leftcorner), (\"fix_Y\", bottom_edge))\n",
    "\n",
    "# Neumann BCs\n",
    "t_bar = 100\n",
    "model_SVK.neumann_bcs = ((\"t_Y\", top_edge, t_bar),)\n",
    "\n",
    "# solver parameters\n",
    "solver_SVK = Solver()\n",
    "solver_SVK.num_increments = 10\n",
    "solver_SVK.tolerance_nr = 1e-7\n",
    "solver_SVK.max_iter = 20\n",
    "solver_SVK.control_method = \"load\"\n",
    "\n",
    "# get DOF used for the monitoring in the plots\n",
    "monitoring_node = mesh.nodesets.find(model_SVK.nodes, X=W, Y=L)\n",
    "monitoring_node_dof = np.array([[monitoring_node[0], 1]])\n",
    "solver_SVK.monitoring_dof = int(\n",
    "    monitoring_node_dof[0, 0] * 2 + monitoring_node_dof[0, 1]\n",
    ")\n",
    "\n",
    "# set output directory\n",
    "solver_SVK.result_dir = \"project3_SVK\""
   ]
  },
  {
   "cell_type": "markdown",
   "metadata": {},
   "source": [
    "**TASK 1**: Add the missing definitions for the basis functions in `nlfea/elements/shape_functions.py`."
   ]
  },
  {
   "cell_type": "markdown",
   "metadata": {},
   "source": [
    "**TASK 2**: Add the missing definitions for the bilinear quadrilateral element in `nlfea/elements/quad.py`."
   ]
  },
  {
   "cell_type": "markdown",
   "metadata": {},
   "source": [
    "Now, we can continue with the incremental-iterative solution process."
   ]
  },
  {
   "cell_type": "code",
   "execution_count": null,
   "metadata": {},
   "outputs": [],
   "source": [
    "# preprocess model and start computations\n",
    "model_SVK.prepare()\n",
    "solution.incremental.solve(model_SVK, solver_SVK)"
   ]
  },
  {
   "cell_type": "markdown",
   "metadata": {},
   "source": [
    "Next, want to visualize the residuals as well as the force-displacement result for this test."
   ]
  },
  {
   "cell_type": "code",
   "execution_count": null,
   "metadata": {},
   "outputs": [],
   "source": [
    "# plot residuals\n",
    "post.plots.residuals(solver_SVK.monitoring)\n",
    "\n",
    "# plot results\n",
    "post.plots.force_displacement(solver_SVK.monitoring)"
   ]
  },
  {
   "cell_type": "markdown",
   "metadata": {},
   "source": [
    "Finally, we want to visualize the field results, namely the displacement and the pushed-forward Cauchy stress $\\sigma$. Note that for the latter, we need to project the values from the Gauss points to the nodes for visualization (this is common in FE programs), which -- if you're curious -- you can find in `nlfea/post/gausspoint_to_nodes.py`. With the chosen BCs, you should see a homogeneous stress state (up to numerical round-off errors)."
   ]
  },
  {
   "cell_type": "code",
   "execution_count": null,
   "metadata": {},
   "outputs": [],
   "source": [
    "post.interactive.continuum(solver_SVK.result_dir, field=\"u\")\n",
    "post.interactive.continuum(solver_SVK.result_dir, field=\"σ\")"
   ]
  },
  {
   "cell_type": "markdown",
   "metadata": {},
   "source": [
    "## 2. Implementation of hyperelastic material laws\n",
    "\n",
    "Next, we devote ourselves to the implementation of hyperelastic material laws.\n",
    "While before, we've been using the St. Venant-Kirchhoff material model, we now want to use a neo-Hookean material."
   ]
  },
  {
   "cell_type": "markdown",
   "metadata": {},
   "source": [
    "**TASK 3:** Implement the missing definitions of the Mooney-Rivlin material model in `nlfea/materials/neo_hooke.py`."
   ]
  },
  {
   "cell_type": "markdown",
   "metadata": {},
   "source": [
    "With your implementation, run the same test setup."
   ]
  },
  {
   "cell_type": "code",
   "execution_count": null,
   "metadata": {},
   "outputs": [],
   "source": [
    "# initialize empty model object\n",
    "model_NH = Model()\n",
    "\n",
    "# mesh\n",
    "W = 10\n",
    "L = 100\n",
    "(model_NH.nodes, model_NH.connectivity) = mesh.plane.rectangle(\n",
    "    length_x=W, length_y=L, num_nodes_x=10, num_nodes_y=50, element_type=\"quad4\"\n",
    ")\n",
    "\n",
    "# define material model\n",
    "model_NH.material = materials.NeoHooke(λ=121, μ=80)\n",
    "\n",
    "# define type of element\n",
    "model_NH.parent_element = elements.Quad(\n",
    "    kinematics=\"nonlinear\", element_type=\"quad4\", integration=\"full\"\n",
    ")\n",
    "\n",
    "\n",
    "# find node sets for the application of BCs\n",
    "bottom_edge = mesh.nodesets.find(model_NH.nodes, Y=0)\n",
    "bottom_leftcorner = mesh.nodesets.find(model_NH.nodes, X=0, Y=0)\n",
    "top_edge = mesh.nodesets.find(model_NH.nodes, Y=L)\n",
    "\n",
    "# Dirichlet BCs\n",
    "model_NH.dirichlet_bcs = ((\"fix_X\", bottom_leftcorner), (\"fix_Y\", bottom_edge))\n",
    "\n",
    "# Neumann BCs\n",
    "t_bar = 100\n",
    "model_NH.neumann_bcs = ((\"t_Y\", top_edge, t_bar),)\n",
    "\n",
    "# solver parameters\n",
    "solver_NH = Solver()\n",
    "solver_NH.num_increments = 10\n",
    "solver_NH.tolerance_nr = 1e-7\n",
    "solver_NH.max_iter = 20\n",
    "solver_NH.control_method = \"load\"\n",
    "\n",
    "# get DOF used for the monitoring in the plots\n",
    "monitoring_node = mesh.nodesets.find(model_NH.nodes, X=W, Y=L)\n",
    "monitoring_node_dof = np.array([[monitoring_node[0], 1]])\n",
    "solver_NH.monitoring_dof = int(\n",
    "    monitoring_node_dof[0, 0] * 2 + monitoring_node_dof[0, 1]\n",
    ")\n",
    "\n",
    "# set output directory\n",
    "solver_NH.result_dir = \"project3_NH\"\n",
    "\n",
    "# preprocess model and start computations\n",
    "model_NH.prepare()\n",
    "solution.incremental.solve(model_NH, solver_NH)\n",
    "\n",
    "# plot residuals\n",
    "post.plots.residuals(solver_NH.monitoring)\n",
    "\n",
    "# plot results\n",
    "post.plots.force_displacement(solver_NH.monitoring)"
   ]
  },
  {
   "cell_type": "markdown",
   "metadata": {},
   "source": [
    "Finally, we again want to visualize the field results, namely the displacement and the pushed-forward Cauchy stress $\\sigma$."
   ]
  },
  {
   "cell_type": "code",
   "execution_count": null,
   "metadata": {},
   "outputs": [],
   "source": [
    "post.interactive.continuum(solver_NH.result_dir, field=\"u\")\n",
    "post.interactive.continuum(solver_NH.result_dir, field=\"σ\")"
   ]
  },
  {
   "cell_type": "markdown",
   "metadata": {},
   "source": [
    "## 3. Application\n",
    "\n",
    "Finally, to test your implementation with a more interesting test setup, you can run a common test called 'Cooke's membrane', where a traction load is applied on the right edge."
   ]
  },
  {
   "cell_type": "code",
   "execution_count": null,
   "metadata": {},
   "outputs": [],
   "source": [
    "# initialize empty model object\n",
    "model = Model()\n",
    "\n",
    "# mesh\n",
    "(model.nodes, model.connectivity) = mesh.plane.cooksmembrane(\n",
    "    num_nodes_x=25, num_nodes_y=25, element_type=\"quad4\"\n",
    ")\n",
    "\n",
    "# define type of element\n",
    "model.parent_element = elements.Quad(\n",
    "    kinematics=\"nonlinear\", element_type=\"quad4\", integration=\"full\"\n",
    ")\n",
    "\n",
    "# material\n",
    "model.material = materials.NeoHooke(λ=121, μ=40)\n",
    "\n",
    "# find node sets for the application of BCs\n",
    "left_edge = mesh.nodesets.find(model.nodes, X=0)\n",
    "right_edge = mesh.nodesets.find(model.nodes, X=max(model.nodes[:, 0]))\n",
    "\n",
    "# Dirichlet BCs\n",
    "model.dirichlet_bcs = ((\"fix_X\", left_edge), (\"fix_Y\", left_edge))\n",
    "\n",
    "# Neumann BCs\n",
    "model.neumann_bcs = ((\"t_Y\", right_edge, 5),)\n",
    "\n",
    "# solver parameters\n",
    "solver = Solver()\n",
    "solver.num_increments = 10\n",
    "solver.tolerance_nr = 1e-7\n",
    "solver.max_iter = 20\n",
    "solver.control_method = \"load\"\n",
    "\n",
    "# get DOF used for the monitoring in the plots\n",
    "monitoring_node = mesh.nodesets.find(\n",
    "    model.nodes, X=max(model.nodes[:, 0]), Y=max(model.nodes[:, 1])\n",
    ")\n",
    "monitoring_node_dof = np.array([[monitoring_node[0], 0]])\n",
    "solver.monitoring_dof = int(monitoring_node_dof[0, 0] * 2 + monitoring_node_dof[0, 1])\n",
    "\n",
    "# set output directory\n",
    "solver.result_dir = \"misc_cooksmembrane\"\n",
    "\n",
    "# preprocess model and start computations\n",
    "model.prepare()\n",
    "solution.incremental.solve(model, solver)\n",
    "\n",
    "# plot residuals\n",
    "post.plots.residuals(solver.monitoring)\n",
    "\n",
    "# plot deformed mesh\n",
    "post.interactive.continuum(solver.result_dir)\n"
   ]
  },
  {
   "cell_type": "markdown",
   "metadata": {},
   "source": [
    "For the submission of this project, upload on Moodle:\n",
    "\n",
    "- this Jupyter notebook,\n",
    "- the file `elements/shape_functions.py`,\n",
    "- the file `elements/quad.py`, and\n",
    "- the file `materials/neo_hooke.py`."
   ]
  }
 ],
 "metadata": {
  "kernelspec": {
   "display_name": "nlfea_code",
   "language": "python",
   "name": "python3"
  },
  "language_info": {
   "codemirror_mode": {
    "name": "ipython",
    "version": 3
   },
   "file_extension": ".py",
   "mimetype": "text/x-python",
   "name": "python",
   "nbconvert_exporter": "python",
   "pygments_lexer": "ipython3",
   "version": "3.13.2"
  }
 },
 "nbformat": 4,
 "nbformat_minor": 2
}
