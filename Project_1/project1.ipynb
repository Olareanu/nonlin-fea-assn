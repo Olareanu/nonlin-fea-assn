{
 "cells": [
  {
   "cell_type": "markdown",
   "metadata": {},
   "source": [
    "<sub><sup>Copyright (C) 2025 J. Heinzmann, A. Benady, ETH Zürich</sub></sup>\n",
    "\n",
    "<sub><sup>\n",
    "This file is part of the `nlfea` package for the course Computational Mechanics II: Nonlinear FEA at ETH Zurich.\n",
    "This software is exclusively intended for personal, educational purposes only in the context of the above course.\n",
    "It must not be used outside of this scope without the explicit consent of the author(s).\n",
    "</sub></sup>\n",
    "\n",
    "# Project 1\n",
    "\n",
    "The first project revolves around truss systems, with the aim to compare the formulation, implementation and numerical results for linear and non-linear kinematics.\n",
    "\n",
    "This notebook will guide you through all the necessary steps.\n",
    "We'll start with a linear truss formulation to get you started and make you familiar with how the code works."
   ]
  },
  {
   "cell_type": "markdown",
   "metadata": {},
   "source": [
    "## 1. Pre-processing and solver setup\n"
   ]
  },
  {
   "cell_type": "markdown",
   "metadata": {},
   "source": [
    "First, we need to import all necessary dependencies."
   ]
  },
  {
   "cell_type": "code",
   "execution_count": null,
   "metadata": {},
   "outputs": [],
   "source": [
    "# external dependencies\n",
    "import numpy as np\n",
    "import math\n",
    "\n",
    "# internal dependencies\n",
    "from nlfea import Model, Solver, mesh, materials, elements, solution, post"
   ]
  },
  {
   "cell_type": "markdown",
   "metadata": {},
   "source": [
    "Then, we can start by initializing an empty `Model` object, which will contain all the information about the problem we are going to solve."
   ]
  },
  {
   "cell_type": "code",
   "execution_count": null,
   "metadata": {},
   "outputs": [],
   "source": [
    "model_linear = Model()"
   ]
  },
  {
   "cell_type": "markdown",
   "metadata": {},
   "source": [
    "Then, we'll assign a standard linear Hooke material law to the model, with Young's modulus of $E=10$ MPa."
   ]
  },
  {
   "cell_type": "code",
   "execution_count": null,
   "metadata": {},
   "outputs": [],
   "source": [
    "model_linear.material = materials.Hooke(E=10)"
   ]
  },
  {
   "cell_type": "markdown",
   "metadata": {},
   "source": [
    "Next, we create a mesh for a von Mises truss, resembling the one we were dealing with in the exercise session."
   ]
  },
  {
   "cell_type": "code",
   "execution_count": null,
   "metadata": {},
   "outputs": [],
   "source": [
    "(model_linear.nodes, model_linear.connectivity) = mesh.truss.von_mises(B=1, H=1)"
   ]
  },
  {
   "cell_type": "markdown",
   "metadata": {},
   "source": [
    "We can see that this function created an array storing all the nodal positions as well as the connectivity (i.e. which element is connected to which nodes).\n",
    "\n",
    "Note that this "
   ]
  },
  {
   "cell_type": "code",
   "execution_count": null,
   "metadata": {},
   "outputs": [],
   "source": [
    "print(f\"nodes:\\n{model_linear.nodes}\")\n",
    "print(f\"element connectivity:\\n{model_linear.connectivity}\")"
   ]
  },
  {
   "cell_type": "markdown",
   "metadata": {},
   "source": [
    "Which tells us that the first element (the first row of the lower array) is connected to the nodes with global indices `0` and `1`, while the second element is connected to the nodes with global indices `1` and `2`.\n",
    "\n",
    "The node with global index `0` (the first row in the upper array, Python starts counting indices at `0`) has the coordinates $(-B,0)$, the node with global index `1` (second row) has the coordinates $(0,H)$, etc."
   ]
  },
  {
   "cell_type": "markdown",
   "metadata": {},
   "source": [
    "With this, we can assign an element type to our model (in the library called `parent_element` to avoid confusion of this object with other element instances in e.g. the assembly).\n",
    "\n",
    "As mentioned, we'll start with linear kinematics by selecting `kinematics = linear`, non-linear kinematics instead would require the argument `kinematics = nonlinear`."
   ]
  },
  {
   "cell_type": "code",
   "execution_count": null,
   "metadata": {},
   "outputs": [],
   "source": [
    "model_linear.parent_element = elements.Bar(kinematics=\"linear\")"
   ]
  },
  {
   "cell_type": "markdown",
   "metadata": {},
   "source": [
    "Next, we need to define the boundary conditions.\n",
    "\n",
    "Starting with the Dirichlet boundary conditions (displacement), we will fix the bottom nodes of the truss in both the $x$- and $y$-direction (recall, global node indices `0` and `2`)."
   ]
  },
  {
   "cell_type": "code",
   "execution_count": null,
   "metadata": {},
   "outputs": [],
   "source": [
    "bottom_nodes = [0, 2]\n",
    "model_linear.dirichlet_bcs = ((\"fix_X\", bottom_nodes), (\"fix_Y\", bottom_nodes))"
   ]
  },
  {
   "cell_type": "markdown",
   "metadata": {},
   "source": [
    "Navigate to the file `nlfea/constraints/dirichlet_bcs.py` and read the docstring of the function and relate its definition back to the above definition.\n",
    "In this file, you find missing lines of code, which will be your first task of this project:\n",
    "\n",
    "**TASK 1**: Add the missing lines of code for both functions in the file `nlfea/constraints/dirichlet_bcs.py` to account for the Dirichlet boundary conditions in the FE equation system."
   ]
  },
  {
   "cell_type": "markdown",
   "metadata": {},
   "source": [
    "Next, we add the spring to the top node of the truss system, to replicate the system discussed in the first exercise session."
   ]
  },
  {
   "cell_type": "code",
   "execution_count": null,
   "metadata": {},
   "outputs": [],
   "source": [
    "model_linear.spring_bcs = (\n",
    "    (\"k_Y\", [1], model_linear.material.E * model_linear.parent_element.A / 2),\n",
    ")"
   ]
  },
  {
   "cell_type": "markdown",
   "metadata": {},
   "source": [
    "Make yourself familiar with the above definition by reading the docstring in the file `nlfea/constraints/spring_bcs.py`. There, you'll find the second task of this project:\n",
    "\n",
    "**TASK 2**: Add the missing lines of code in the file `nlfea/constraints/spring_bcs.py` to account for springs in the FE equation system."
   ]
  },
  {
   "cell_type": "markdown",
   "metadata": {},
   "source": [
    "To complete our problem definition, we need to apply a point load.\n",
    "The interface to do so is similar to the Dirichlet BCs and springs."
   ]
  },
  {
   "cell_type": "code",
   "execution_count": null,
   "metadata": {},
   "outputs": [],
   "source": [
    "model_linear.point_loads = ((\"F_Y\", [1], -10),)"
   ]
  },
  {
   "cell_type": "markdown",
   "metadata": {},
   "source": [
    "With this, we can devote ourselves to defining the solution procedure.\n",
    "For this, we initialize an empty `Solver` object, which will contain all definitions the incremental-iterative solution procedure will need.\n",
    "Specifically, these are:\n",
    "\n",
    "- `num_increments`: how many load steps in total we want to apply from the initial state to the final state (in this case the maximum force value),\n",
    "- `tolerance_nr`: the tolerance at which the iterative Newton-Raphson solver will stop,\n",
    "- `max_iter`: the maximum number of iterations we allow for the Newton-Raphson solver, and\n",
    "- `control_method`: for now, we use a force-controlled procedure, but this setting will become important later on in the course.\n",
    "\n",
    "Familiarize yourself with the other solver options by looking at the solver class in `nlfea/solver.py`."
   ]
  },
  {
   "cell_type": "code",
   "execution_count": null,
   "metadata": {},
   "outputs": [],
   "source": [
    "solver_linear = Solver()\n",
    "solver_linear.num_increments = 100\n",
    "solver_linear.tolerance_nr = 1e-7\n",
    "solver_linear.max_iter = 50\n",
    "solver_linear.control_method = \"load\""
   ]
  },
  {
   "cell_type": "markdown",
   "metadata": {},
   "source": [
    "Later, we want to create a force-displacement plot from the numerical solution.\n",
    "For this, we want to track the numerical displacement value (since we know the force value, as we impose it explicitly) during the solution process.\n",
    "\n",
    "To track this value, we need to specify at which DOF we want to record the displacement.\n",
    "We want to use the top node of the truss system (where the spring is) for this, and use the displacement in $y$-direction.\n",
    "\n",
    "**TASK 3:** Determine the correct monitoring DOF."
   ]
  },
  {
   "cell_type": "code",
   "execution_count": null,
   "metadata": {},
   "outputs": [],
   "source": [
    "solver_linear.monitoring_dof = # TODO"
   ]
  },
  {
   "cell_type": "markdown",
   "metadata": {},
   "source": [
    "Before we can start the solution procedure now, we must specify an output directory, where the solver will store the results (now only the displacement, later this will become strain fields, stress fields, etc.)."
   ]
  },
  {
   "cell_type": "code",
   "execution_count": null,
   "metadata": {},
   "outputs": [],
   "source": [
    "solver_linear.result_dir = \"project1_linear\""
   ]
  },
  {
   "cell_type": "markdown",
   "metadata": {},
   "source": [
    "With this, we have defined everything and we have to call `model_linear.prepare()` to set up everything internally.\n",
    "This will also print some statistics, e.g. how many nodes, elemnents and DOFs our model features."
   ]
  },
  {
   "cell_type": "code",
   "execution_count": null,
   "metadata": {},
   "outputs": [],
   "source": [
    "model_linear.prepare()"
   ]
  },
  {
   "cell_type": "markdown",
   "metadata": {},
   "source": [
    "## 2. Incremental-iterative solution\n",
    "\n",
    "With all our definitions, we can start the iterative solution for each subsequent load step.\n",
    "\n",
    "Familiarize yourself with the iterative solution procedure in `nlfea/solution/incremental.py` which will call the iterative Newton-Raphson solver in `nlfea/solution/newton_raphson.py` at each increment."
   ]
  },
  {
   "cell_type": "code",
   "execution_count": null,
   "metadata": {},
   "outputs": [],
   "source": [
    "solution.incremental.solve(model_linear, solver_linear)"
   ]
  },
  {
   "cell_type": "markdown",
   "metadata": {},
   "source": [
    "The solver prints its convergence information for each increment.\n",
    "\n",
    "For a better understanding, we visualize the residual norms for each iteration, and for each increment in a plot.\n",
    "For your convenience, the library contains a function which will do so based on the recorded values during the incremental-iterative solution."
   ]
  },
  {
   "cell_type": "code",
   "execution_count": null,
   "metadata": {},
   "outputs": [],
   "source": [
    "post.plots.residuals(solver_linear.monitoring)"
   ]
  },
  {
   "cell_type": "markdown",
   "metadata": {},
   "source": [
    "**TASK 4:** What can you observe in terms of convergence behavior, and how can this be explained?\n",
    "Answer in the Markdown text field below."
   ]
  },
  {
   "cell_type": "markdown",
   "metadata": {},
   "source": []
  },
  {
   "cell_type": "markdown",
   "metadata": {},
   "source": [
    "## 3. Post-processing\n",
    "\n",
    "As mentioned earlier, we also want to plot the numerically obtained force-displacement response.\n",
    "The function which will plot the force and displacement values at the specified monitoring DOF accepts as optional argument a function call, which will plot on top a closed-form solution to compare against.\n",
    "This function is provided below for the case of the von Mises truss with linearized kinematics.\n",
    "\n",
    "If everything is correct, both of them should align."
   ]
  },
  {
   "cell_type": "code",
   "execution_count": null,
   "metadata": {},
   "outputs": [],
   "source": [
    "def analytical_solution_linear(u):\n",
    "    return (\n",
    "        2\n",
    "        * model_linear.material[0].E\n",
    "        * model_linear.parent_element.A\n",
    "        * (math.sqrt(2) / 2) ** 3\n",
    "        * u\n",
    "        + model_linear.spring_bcs[0][2] * u\n",
    "    )\n",
    "\n",
    "\n",
    "post.plots.force_displacement(solver_linear.monitoring, analytical_solution_linear)"
   ]
  },
  {
   "cell_type": "markdown",
   "metadata": {},
   "source": [
    "**TASK 5:** What can you observe in terms of force-displacement behavior, and how can this be explained?\n",
    "Answer in the Markdown text field below."
   ]
  },
  {
   "cell_type": "markdown",
   "metadata": {},
   "source": []
  },
  {
   "cell_type": "markdown",
   "metadata": {},
   "source": [
    "Finally, we want to visualize the truss and how it is deformed during the increments.\n",
    "The library contains a function for this, to which we need to pass our ealier defined output directory containing [`vtk` files](https://docs.vtk.org/en/latest/design_documents/VTKFileFormats.html) with the mesh, and the solution for each increment.\n",
    "This is a open-source file format, which is also often used in research.\n",
    "Alternatively (for larger data sets), these files can also be visualized with the open-source program [ParaView](https://www.paraview.org/).\n",
    "\n",
    "Below, you can go through the different increments with the slider on top."
   ]
  },
  {
   "cell_type": "code",
   "execution_count": null,
   "metadata": {},
   "outputs": [],
   "source": [
    "post.interactive.truss(solver_linear.result_dir)"
   ]
  },
  {
   "cell_type": "markdown",
   "metadata": {},
   "source": [
    "## Truss elements with non-linear kinematics\n",
    "\n",
    "Now that you're familiar with the code, we want to devote ourselves to trusses with non-linear kinematics.\n",
    "We set up everything exactly as above, with the difference that we select non-linear kinematics for the element (internally, this will call another function during the assembly procedure)."
   ]
  },
  {
   "cell_type": "code",
   "execution_count": null,
   "metadata": {},
   "outputs": [],
   "source": [
    "# initialize empty model object\n",
    "model_nonlinear = Model()\n",
    "\n",
    "# define material\n",
    "model_nonlinear.material = materials.Hooke(E=10)\n",
    "\n",
    "# generate mesh\n",
    "(model_nonlinear.nodes, model_nonlinear.connectivity) = mesh.truss.von_mises(B=1, H=1)\n",
    "\n",
    "# define element type\n",
    "model_nonlinear.parent_element = elements.Bar(kinematics=\"nonlinear\")\n",
    "\n",
    "# define boundary conditions (reusing definitions from linear model above)\n",
    "model_nonlinear.dirichlet_bcs = ((\"fix_X\", bottom_nodes), (\"fix_Y\", bottom_nodes))\n",
    "model_nonlinear.spring_bcs = (\n",
    "    (\"k_Y\", [1], model_nonlinear.material.E * model_nonlinear.parent_element.A / 2),\n",
    ")\n",
    "model_nonlinear.point_loads = ((\"F_Y\", [1], -10),)\n",
    "model_nonlinear.prepare()\n",
    "\n",
    "# define solver\n",
    "solver_nonlinear = Solver()\n",
    "solver_nonlinear.num_increments = 100\n",
    "solver_nonlinear.tolerance_nr = 1e-7\n",
    "solver_nonlinear.max_iter = 50\n",
    "solver_nonlinear.control_method = \"load\"\n",
    "solver_nonlinear.monitoring_dof = (\n",
    "    solver_linear.monitoring_dof\n",
    ")  # same monitoring node as for linear model\n",
    "solver_nonlinear.result_dir = \"project1_nonlinear\""
   ]
  },
  {
   "cell_type": "markdown",
   "metadata": {},
   "source": [
    "**TASK 6:** Complete the assembly function of the bar element with non-linear kinematics `Fint_Ktan_nonlinearkinematics` in `nlfea/elements/bar.py`.\n",
    "\n",
    "The necessary output arguments for the assembly function in `nlfea/solution/assemble.py` (which will loop over all the elements) are `Fint_elem` and `Ktan_elem`.\n",
    "\n",
    "Once you've done that, start the incremental-iterative solution process."
   ]
  },
  {
   "cell_type": "code",
   "execution_count": null,
   "metadata": {},
   "outputs": [],
   "source": [
    "solution.incremental.solve(model_nonlinear, solver_nonlinear)"
   ]
  },
  {
   "cell_type": "markdown",
   "metadata": {},
   "source": [
    "We again plot the residuals to study the convergence behavior."
   ]
  },
  {
   "cell_type": "code",
   "execution_count": null,
   "metadata": {},
   "outputs": [],
   "source": [
    "post.plots.residuals(solver_nonlinear.monitoring)"
   ]
  },
  {
   "cell_type": "markdown",
   "metadata": {},
   "source": [
    "**TASK 7:** What can you observe in the convergence plot? How does the convergence of the nonlinear formulation compare to the linear formulation? Answer in the Markdown cell below."
   ]
  },
  {
   "cell_type": "markdown",
   "metadata": {},
   "source": []
  },
  {
   "cell_type": "markdown",
   "metadata": {},
   "source": [
    "Finally, we plot the force-displacement response and compare it against the analytical solution.\n",
    "\n",
    "**TASK 8:** Complete the function giving the force in dependence of the displacement for the von Mises truss system with non-linear kinematics as derived in the exercise session.\n",
    "\n",
    "Watch out that:\n",
    "\n",
    "- in the exercise solution, symmetry was used (we only calculated with a single element meaning that you have to scale the reaction force), and\n",
    "- the force and displacement were both considered to be positive for a downwards movement. This is now the opposite where upwards is positive according to the global coordinate system."
   ]
  },
  {
   "cell_type": "code",
   "execution_count": null,
   "metadata": {},
   "outputs": [],
   "source": [
    "def analytical_solution_nonlinear(u):\n",
    "    return (\n",
    "        # TODO\n",
    "    )\n",
    "\n",
    "\n",
    "post.plots.force_displacement(\n",
    "    solver_nonlinear.monitoring, analytical_solution_nonlinear\n",
    ")"
   ]
  },
  {
   "cell_type": "markdown",
   "metadata": {},
   "source": [
    "Finally, we also visualize the deformation of the truss during the load increments."
   ]
  },
  {
   "cell_type": "code",
   "execution_count": null,
   "metadata": {},
   "outputs": [],
   "source": [
    "post.interactive.truss(solver_nonlinear.result_dir)"
   ]
  },
  {
   "cell_type": "markdown",
   "metadata": {},
   "source": [
    "Hand in this notebook with your solutions, as well as the files `nlfea/constraints/dirichlet_bcs.py`, `nlfea/constraints/spring_bcs.py`, `nlfea/elements/bar.py` on Moodle.\n",
    "\n",
    "⚠️ *Don't change anything else in the library apart the mentioned tasks, otherwise we cannot guarantee that during our grading we can reproduce the same behavior.* ⚠️"
   ]
  }
 ],
 "metadata": {
  "kernelspec": {
   "display_name": "nlfea_code_new",
   "language": "python",
   "name": "python3"
  },
  "language_info": {
   "codemirror_mode": {
    "name": "ipython",
    "version": 3
   },
   "file_extension": ".py",
   "mimetype": "text/x-python",
   "name": "python",
   "nbconvert_exporter": "python",
   "pygments_lexer": "ipython3",
   "version": "3.9.6"
  }
 },
 "nbformat": 4,
 "nbformat_minor": 2
}
