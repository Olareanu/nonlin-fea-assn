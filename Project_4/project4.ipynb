{
 "cells": [
  {
   "cell_type": "markdown",
   "metadata": {},
   "source": [
    "<sub><sup>Copyright (C) 2025 J. Heinzmann, A. Benady, ETH Zürich</sub></sup>\n",
    "\n",
    "<sub><sup>\n",
    "This file is part of the `nlfea` package for the course Computational Mechanics II: Nonlinear FEA at ETH Zurich.\n",
    "This software is exclusively intended for personal, educational purposes only in the context of the above course.\n",
    "It must not be used outside of this scope without the explicit consent of the author(s).\n",
    "</sub></sup>\n",
    "\n",
    "# Project 4\n",
    "\n",
    "The third project revolves around the FE implementation of $J_2$-plasticity.\n",
    "\n",
    "This notebook will guide you through all the necessary steps."
   ]
  },
  {
   "cell_type": "markdown",
   "metadata": {},
   "source": [
    "## 1. Implementation and Validation with Pressurized Pipe"
   ]
  },
  {
   "cell_type": "markdown",
   "metadata": {},
   "source": [
    "We start with an example setup where an analytical solution is available, such that we can properly validate our implementation.\n",
    "Namely, we consider a pipe under internal pressure which will start to plastify once the internal pressure reaches a certain threshold.\n",
    "We exploit the symmetry of the test (and its solution fields) to compute only a segment of the pipe.\n",
    "\n",
    "The setup is taken from:\n",
    "\n",
    "[E.A. de Souza Neto (2008): Computational Methods for Plasticity](doi.org/10.1002/9780470694626), pp. 245ff, [based on Hill, 1950]"
   ]
  },
  {
   "cell_type": "code",
   "execution_count": null,
   "metadata": {},
   "outputs": [],
   "source": [
    "# external dependencies\n",
    "import numpy as np\n",
    "\n",
    "# internal dependencies\n",
    "from nlfea import Model, Solver, mesh, materials, elements, solution, post\n",
    "\n",
    "# initialize empty model object\n",
    "model_pipesegment = Model()\n",
    "\n",
    "# mesh\n",
    "r_inner = 100  # mm\n",
    "r_outer = 200  # mm\n",
    "(model_pipesegment.nodes, model_pipesegment.connectivity) = mesh.plane.arc(\n",
    "    r_inner=r_inner,\n",
    "    r_outer=r_outer,\n",
    "    φ_start=0,\n",
    "    φ_end=90,\n",
    "    num_nodes_r=7,\n",
    "    num_nodes_φ=15,\n",
    "    element_type=\"quad8\",\n",
    ")\n",
    "\n",
    "# define type of element\n",
    "model_pipesegment.parent_element = elements.Quad(\n",
    "    kinematics=\"linear\", element_type=\"quad8\", integration=\"reduced\"\n",
    ")\n",
    "\n",
    "# material\n",
    "model_pipesegment.material = materials.Hooke_J2plasticity(E=210, ν=0.3, σ_0=0.24, K=0)\n",
    "\n",
    "# find node sets for the application of BCs\n",
    "inner_edge = np.where(np.isclose(np.linalg.norm(model_pipesegment.nodes, axis=1), 100))[\n",
    "    0\n",
    "].tolist()\n",
    "φ_start = mesh.nodesets.find(model_pipesegment.nodes, Y=0)\n",
    "φ_end = mesh.nodesets.find(model_pipesegment.nodes, X=0)\n",
    "\n",
    "# Dirichlet BCs\n",
    "model_pipesegment.dirichlet_bcs = ((\"fix_X\", φ_end), (\"fix_Y\", φ_start))\n",
    "\n",
    "# Neumann BCs\n",
    "t_bar = -0.18\n",
    "model_pipesegment.neumann_bcs = ((\"t_N\", inner_edge, t_bar),)\n",
    "\n",
    "# solver parameters\n",
    "solver_pipesegment = Solver()\n",
    "solver_pipesegment.num_increments = 20\n",
    "solver_pipesegment.tolerance_nr = 1e-7\n",
    "solver_pipesegment.max_iter = 20\n",
    "solver_pipesegment.control_method = \"load\"\n",
    "\n",
    "# get DOF used for the monitoring in the plots\n",
    "monitoring_node = int(\n",
    "    np.where(\n",
    "        np.isclose(model_pipesegment.nodes[:, 0], r_outer)\n",
    "        & np.isclose(model_pipesegment.nodes[:, 1], 0.0)\n",
    "    )[0]\n",
    ")\n",
    "monitoring_node_dof = np.array([[monitoring_node, 0]])\n",
    "solver_pipesegment.monitoring_dof = int(\n",
    "    monitoring_node_dof[0, 0] * 2 + monitoring_node_dof[0, 1]\n",
    ")\n",
    "\n",
    "\n",
    "# set analytical solution\n",
    "def analytical_solution(u):\n",
    "    return post.analytical_solutions.pressurized_cylinder(\n",
    "        model_pipesegment.material[0], r_outer, r_inner, t_bar, u\n",
    "    )\n",
    "\n",
    "\n",
    "# set output directory\n",
    "solver_pipesegment.result_dir = \"project4_pressurizedcyclinder\""
   ]
  },
  {
   "cell_type": "markdown",
   "metadata": {},
   "source": [
    "**TASK 1**: Add the missing return mapping algorithm in `nlfea/materials/hooke_J2plasticity.py`."
   ]
  },
  {
   "cell_type": "markdown",
   "metadata": {},
   "source": [
    "Now, we can start the incremental-iterative solution process and plot the residuals of the Newton-Raphson solver."
   ]
  },
  {
   "cell_type": "code",
   "execution_count": null,
   "metadata": {},
   "outputs": [],
   "source": [
    "# preprocess model and start computations\n",
    "model_pipesegment.prepare()\n",
    "solution.incremental.solve(model_pipesegment, solver_pipesegment)\n",
    "\n",
    "# plot residuals\n",
    "post.plots.residuals(solver_pipesegment.monitoring)"
   ]
  },
  {
   "cell_type": "markdown",
   "metadata": {},
   "source": [
    "**TASK 2**: What can you observe in terms of the convergence behavior of the elastic load steps vs. once plastic flow occurs? Answer in the empty Markdown box below."
   ]
  },
  {
   "cell_type": "markdown",
   "metadata": {},
   "source": []
  },
  {
   "cell_type": "markdown",
   "metadata": {},
   "source": [
    "Let's also visualize the deformation of the pipe."
   ]
  },
  {
   "cell_type": "code",
   "execution_count": null,
   "metadata": {},
   "outputs": [],
   "source": [
    "post.interactive.continuum(\n",
    "    solver_pipesegment.result_dir, field=\"u\", deformation_magnification=200.0\n",
    ")"
   ]
  },
  {
   "cell_type": "markdown",
   "metadata": {},
   "source": [
    "Finally, to validate your implementation, make sure that your numerically obtained solution matches the analytical solution below."
   ]
  },
  {
   "cell_type": "code",
   "execution_count": null,
   "metadata": {},
   "outputs": [],
   "source": [
    "# plot results\n",
    "# here, we work with the internal pressure vs. the radial displacement at the outer edge\n",
    "# hence, we exploit the function equilibrium_path to plot the load factor vs.\n",
    "# the displacement at the monitoring DOF (the analytical solution is also normalized with t_bar)\n",
    "post.plots.equilibrium_path(solver_pipesegment.monitoring, analytical_solution)"
   ]
  },
  {
   "cell_type": "markdown",
   "metadata": {},
   "source": [
    "**TASK 3**: Checking our material parameter definition above, we see that essentially a perfect plasticity model was used (by setting the hardening modulus to zero, $K=0$). Still, we can see some hardening-like behavior in the system response. How can this be explained? Answer in the empty Markdown box below."
   ]
  },
  {
   "cell_type": "markdown",
   "metadata": {},
   "source": []
  },
  {
   "cell_type": "markdown",
   "metadata": {},
   "source": [
    "## 2. Dogbone specimen\n",
    "\n",
    "Next, we want to replicate a more realistic test setup and use a hardening model, namely a Dogbone specimen. With this, you can test if also your implementation of hardening is correct."
   ]
  },
  {
   "cell_type": "code",
   "execution_count": null,
   "metadata": {},
   "outputs": [],
   "source": [
    "# initialize empty model object\n",
    "model_dogbone = Model()\n",
    "\n",
    "# mesh\n",
    "(model_dogbone.nodes, model_dogbone.connectivity) = mesh.external.load(\n",
    "    \"nlfea/mesh/dogbone.inp\"\n",
    ")\n",
    "\n",
    "# define type of element\n",
    "model_dogbone.parent_element = elements.Quad(\n",
    "    kinematics=\"linear\", element_type=\"quad8\", integration=\"reduced\"\n",
    ")\n",
    "\n",
    "# material\n",
    "model_dogbone.material = materials.Hooke_J2plasticity(E=210, ν=0.3, σ_0=0.24, K=20)\n",
    "\n",
    "# find node sets for the application of BCs\n",
    "lower_edge = mesh.nodesets.find(model_dogbone.nodes, Y=0)\n",
    "upper_edge = mesh.nodesets.find(model_dogbone.nodes, Y=100)\n",
    "\n",
    "# Dirichlet BCs\n",
    "model_dogbone.dirichlet_bcs = ((\"fix_X\", [lower_edge[0]]), (\"fix_Y\", lower_edge))\n",
    "\n",
    "# Neumann BCs\n",
    "model_dogbone.neumann_bcs = ((\"t_Y\", upper_edge, 0.4),)\n",
    "\n",
    "# solver parameters\n",
    "solver_dogbone = Solver()\n",
    "solver_dogbone.num_increments = 10\n",
    "solver_dogbone.tolerance_nr = 1e-7\n",
    "solver_dogbone.max_iter = 20\n",
    "solver_dogbone.control_method = \"load\"\n",
    "\n",
    "# get DOF used for the monitoring in the plots\n",
    "monitoring_node = upper_edge[-1]\n",
    "monitoring_node_dof = np.array([[monitoring_node, 1]])\n",
    "solver_dogbone.monitoring_dof = int(\n",
    "    monitoring_node_dof[0, 0] * 2 + monitoring_node_dof[0, 1]\n",
    ")\n",
    "\n",
    "# set output directory\n",
    "solver_dogbone.result_dir = \"project4_dogbone\"\n",
    "\n",
    "# preprocess model and start computations\n",
    "model_dogbone.prepare()\n",
    "solution.incremental.solve(model_dogbone, solver_dogbone)\n",
    "\n",
    "# plot residuals\n",
    "post.plots.residuals(solver_dogbone.monitoring)\n",
    "\n",
    "# plot results\n",
    "post.plots.force_displacement(solver_dogbone.monitoring)"
   ]
  },
  {
   "cell_type": "markdown",
   "metadata": {},
   "source": [
    "If your implementation of the hardening model is correct, you should also see hardening in the above force-displacement response of the system.\n",
    "\n",
    "Now, we want to visualize not only the deformation, but also the evolution of the plastic variables. To do so, below we select `field=\"α\"` or `field=\"ε_pl\"`. Recall that these values have been computed at the Gauss points, and for PyVista/ ParaView, they have been projected to the nodes (so we don't see the actual values at the Gauss points, but a smoothed-out, approximate picture). For the strain tensor, our code can currently unfortunately only display a norm of the tensor (instead of the individual components)."
   ]
  },
  {
   "cell_type": "code",
   "execution_count": null,
   "metadata": {},
   "outputs": [],
   "source": [
    "# plot deformed mesh\n",
    "post.interactive.continuum(\n",
    "    solver_dogbone.result_dir, field=\"u\", deformation_magnification=20.0\n",
    ")\n",
    "post.interactive.continuum(\n",
    "    solver_dogbone.result_dir, field=\"α\", deformation_magnification=20.0\n",
    ")\n",
    "post.interactive.continuum(\n",
    "    solver_dogbone.result_dir, field=\"ε_pl\", deformation_magnification=20.0\n",
    ")"
   ]
  },
  {
   "cell_type": "markdown",
   "metadata": {},
   "source": [
    "## 3. Bonus: Plate with Holes\n",
    "\n",
    "Finally with this last project, we can also compute the test which has been at the cover of the slides/ the Moodle course!\n",
    "The setup for a plate with holes and an applied traction on the upper edge is given below; be aware that since the code is written in Python, this might take quite a while to compute...\n",
    "For this reason, FEM codes are typically written in low-level, compiled language (such as `C` or `C++`), while also relying on parallel computing.\n",
    "Also, `PyVista` is reaching its limits in terms of visualization.\n",
    "If you're curious, you can open the raw output files in the folder `project4_platewithholes` instead with [ParaView](https://www.paraview.org/download/), where you can also take a look at individual tensor components etc."
   ]
  },
  {
   "cell_type": "code",
   "execution_count": null,
   "metadata": {},
   "outputs": [],
   "source": [
    "# initialize empty model object\n",
    "model_pwh = Model()\n",
    "\n",
    "# mesh\n",
    "(model_pwh.nodes, model_pwh.connectivity) = mesh.external.load(\n",
    "    \"nlfea/mesh/plate_with_holes.inp\"\n",
    ")\n",
    "\n",
    "# define type of element\n",
    "model_pwh.parent_element = elements.Quad(\n",
    "    kinematics=\"linear\", element_type=\"quad8\", integration=\"reduced\"\n",
    ")\n",
    "\n",
    "# material\n",
    "model_pwh.material = materials.Hooke_J2plasticity(E=210, ν=0.3, σ_0=25, K=75)\n",
    "\n",
    "# find node sets for the application of BCs\n",
    "lower_edge = mesh.nodesets.find(model_pwh.nodes, Y=0)\n",
    "lower_left_corner = mesh.nodesets.find(model_pwh.nodes, X=0, Y=0)\n",
    "upper_edge = mesh.nodesets.find(model_pwh.nodes, Y=1)\n",
    "\n",
    "# Dirichlet BCs\n",
    "model_pwh.dirichlet_bcs = ((\"fix_X\", [lower_edge[0]]), (\"fix_Y\", lower_edge))\n",
    "\n",
    "# Neumann BCs\n",
    "model_pwh.neumann_bcs = ((\"t_Y\", upper_edge, 7.5),)\n",
    "\n",
    "# solver parameters\n",
    "solver_pwh = Solver()\n",
    "solver_pwh.num_increments = 20\n",
    "solver_pwh.tolerance_nr = 1e-7\n",
    "solver_pwh.max_iter = 20\n",
    "solver_pwh.control_method = \"load\"\n",
    "\n",
    "# get DOF used for the monitoring in the plots\n",
    "monitoring_node = 137\n",
    "monitoring_node_dof = np.array([[monitoring_node, 1]])\n",
    "solver_pwh.monitoring_dof = int(\n",
    "    monitoring_node_dof[0, 0] * 2 + monitoring_node_dof[0, 1]\n",
    ")\n",
    "\n",
    "# set output directory\n",
    "solver_pwh.result_dir = \"project4_platewithholes\"\n",
    "\n",
    "# preprocess model and start computations\n",
    "model_pwh.prepare()\n",
    "solution.incremental.solve(model_pwh, solver_pwh)\n",
    "\n",
    "# plot residuals\n",
    "post.plots.residuals(solver_pwh.monitoring)\n",
    "\n",
    "# plot deformed mesh\n",
    "post.interactive.continuum(solver_pwh.result_dir)\n",
    "post.interactive.continuum(\n",
    "    solver_pwh.result_dir, field=\"α\", deformation_magnification=1.0\n",
    ")"
   ]
  },
  {
   "cell_type": "markdown",
   "metadata": {},
   "source": [
    "For the submission of this project, upload on Moodle:\n",
    "\n",
    "- this Jupyter notebook, and\n",
    "- the file `materials/hooke_J2plasticity.py`.\n",
    "\n",
    "Congrats, you finished the last coding project of the course!"
   ]
  }
 ],
 "metadata": {
  "kernelspec": {
   "display_name": "nlfea_code",
   "language": "python",
   "name": "python3"
  },
  "language_info": {
   "codemirror_mode": {
    "name": "ipython",
    "version": 3
   },
   "file_extension": ".py",
   "mimetype": "text/x-python",
   "name": "python",
   "nbconvert_exporter": "python",
   "pygments_lexer": "ipython3",
   "version": "3.13.2"
  }
 },
 "nbformat": 4,
 "nbformat_minor": 2
}
