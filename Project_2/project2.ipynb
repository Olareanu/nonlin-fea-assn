{
 "cells": [
  {
   "cell_type": "markdown",
   "metadata": {},
   "source": [
    "<sub><sup>Copyright (C) 2025 J. Heinzmann, A. Benady, ETH Zürich</sub></sup>\n",
    "\n",
    "<sub><sup>\n",
    "This file is part of the `nlfea` package for the course Computational Mechanics II: Nonlinear FEA at ETH Zurich.\n",
    "This software is exclusively intended for personal, educational purposes only in the context of the above course.\n",
    "It must not be used outside of this scope without the explicit consent of the author(s).\n",
    "</sub></sup>\n",
    "\n",
    "# Project 2\n",
    "\n",
    "\n",
    "This project deals with the concept of stability, with a focus on the arc-length method and bisection algrotithm for the critical points search.\n",
    "This notebook will guide you through all the necessary steps. Please do not modify any parts of the library code, unless specifically requested by the\n",
    "tasks of the assignment.\n"
   ]
  },
  {
   "cell_type": "markdown",
   "metadata": {},
   "source": [
    "## 1. Path following method\n"
   ]
  },
  {
   "cell_type": "markdown",
   "metadata": {},
   "source": [
    "First, we need to import all necessary dependencies."
   ]
  },
  {
   "cell_type": "code",
   "execution_count": null,
   "metadata": {
    "ExecuteTime": {
     "end_time": "2025-03-17T13:00:32.153151Z",
     "start_time": "2025-03-17T13:00:32.150999Z"
    }
   },
   "outputs": [],
   "source": [
    "# external dependencies\n",
    "import numpy as np\n",
    "\n",
    "# internal dependencies\n",
    "from nlfea import Model, Solver, mesh, materials, elements, solution, post"
   ]
  },
  {
   "cell_type": "markdown",
   "metadata": {},
   "source": [
    "**TASK 1:** Implement the predictor step in the function `predict()` in the file `solution/arclength.py`\n"
   ]
  },
  {
   "cell_type": "markdown",
   "metadata": {},
   "source": [
    "**TASK 2:** Implement the corrector steps in the function `solve()` in the file `solution/arclength.py`"
   ]
  },
  {
   "cell_type": "markdown",
   "metadata": {},
   "source": [
    "The following cell is here to help you test your implementation. You can run the cell to check your implementation against the analytical solution already provided in the code."
   ]
  },
  {
   "cell_type": "code",
   "execution_count": null,
   "metadata": {
    "ExecuteTime": {
     "end_time": "2025-03-17T13:00:32.341055Z",
     "start_time": "2025-03-17T13:00:32.162297Z"
    }
   },
   "outputs": [],
   "source": [
    "# initialize empty model object\n",
    "model_arclength = Model()\n",
    "\n",
    "# mesh\n",
    "B = 1.0\n",
    "H = 1.3\n",
    "(model_arclength.nodes, model_arclength.connectivity) = mesh.truss.von_mises(B, H)\n",
    "\n",
    "# define type of element\n",
    "model_arclength.parent_element = elements.Bar(kinematics=\"nonlinear\", A=0.1)\n",
    "\n",
    "# material definition\n",
    "model_arclength.material = materials.Hooke(E=10)\n",
    "\n",
    "# Dirichlet BCs\n",
    "bottom_nodes = [0, 2]\n",
    "model_arclength.dirichlet_bcs = ((\"fix_X\", bottom_nodes), (\"fix_Y\", bottom_nodes))\n",
    "\n",
    "# point loads\n",
    "model_arclength.point_loads = ((\"F_Y\", [1], -0.5),)\n",
    "\n",
    "# solver parameters\n",
    "solver_arclength = Solver()\n",
    "solver_arclength.num_increments = 50\n",
    "solver_arclength.tolerance_nr = 1e-7\n",
    "solver_arclength.max_iter = 10\n",
    "solver_arclength.control_method = \"arclength\"\n",
    "solver_arclength.control_size = 0.2\n",
    "solver_arclength.stability_analysis = False\n",
    "\n",
    "# get DOF used for the monitoring in the plots\n",
    "monitoring_node_dof = np.array([[1, 1]])\n",
    "solver_arclength.monitoring_dof = int(\n",
    "    monitoring_node_dof[0, 0] * 2 + monitoring_node_dof[0, 1]\n",
    ")\n",
    "\n",
    "# set output directory\n",
    "solver_arclength.result_dir = \"project2_vonMises_arclength\"\n",
    "\n",
    "# preprocess model and start computations\n",
    "model_arclength.prepare()\n",
    "solution.incremental.solve(model_arclength, solver_arclength)\n",
    "\n",
    "# plot residuals\n",
    "post.plots.residuals(solver_arclength.monitoring)\n",
    "\n",
    "\n",
    "def analytical_solution_nonlinear(u):\n",
    "    # note: the plot below will show the absolute value of u\n",
    "    return (\n",
    "        -(\n",
    "            model_arclength.material[0].E\n",
    "            * model_arclength.parent_element.A\n",
    "            / model_arclength.point_loads[0][2]\n",
    "        )\n",
    "        * (H / np.sqrt(H**2 + B**2)) ** 3\n",
    "        * ((u / H) ** 3 - 3 * (u / H) ** 2 + 2 * (u) / H)\n",
    "    )\n",
    "\n",
    "\n",
    "# plot results\n",
    "post.plots.equilibrium_path(solver_arclength.monitoring, analytical_solution_nonlinear)\n"
   ]
  },
  {
   "cell_type": "markdown",
   "metadata": {},
   "source": [
    "## 2. Bisection for critical points"
   ]
  },
  {
   "cell_type": "markdown",
   "metadata": {},
   "source": [
    "Add the missing steps in `solution/bisection.py` to perform a bisection and run the following cell.\n",
    "\n",
    "The model setup is identical to before, but notice the changes in the solver setup."
   ]
  },
  {
   "cell_type": "code",
   "execution_count": null,
   "metadata": {},
   "outputs": [],
   "source": [
    "# initialize empty model object\n",
    "model_bisection = Model()\n",
    "\n",
    "# mesh\n",
    "B = 1.0\n",
    "H = 1.3\n",
    "(model_bisection.nodes, model_bisection.connectivity) = mesh.truss.von_mises(B, H)\n",
    "\n",
    "# define type of element\n",
    "model_bisection.parent_element = elements.Bar(kinematics=\"nonlinear\", A=0.1)\n",
    "\n",
    "# material definition\n",
    "model_bisection.material = materials.Hooke(E=10)\n",
    "\n",
    "# Dirichlet BCs\n",
    "bottom_nodes = [0, 2]\n",
    "model_bisection.dirichlet_bcs = ((\"fix_X\", bottom_nodes), (\"fix_Y\", bottom_nodes))\n",
    "\n",
    "# point loads\n",
    "model_bisection.point_loads = ((\"F_Y\", [1], -0.5),)\n",
    "\n",
    "# solver parameters\n",
    "solver_bisection = Solver()\n",
    "solver_bisection.num_increments = 50\n",
    "solver_bisection.tolerance_nr = 1e-7\n",
    "solver_bisection.max_iter = 10\n",
    "solver_bisection.control_method = \"arclength\"\n",
    "solver_bisection.control_size = 0.2\n",
    "solver_bisection.stability_analysis = True\n",
    "solver_bisection.tolerance_detK = 1e-5\n",
    "solver_bisection.max_bisection_iter = 20\n",
    "solver_bisection.perturbation = False\n",
    "\n",
    "# get DOF used for the monitoring in the plots\n",
    "monitoring_node_dof = np.array([[1, 1]])\n",
    "solver_bisection.monitoring_dof = int(\n",
    "    monitoring_node_dof[0, 0] * 2 + monitoring_node_dof[0, 1]\n",
    ")\n",
    "\n",
    "# set output directory\n",
    "solver_bisection.result_dir = \"project2_vonMises_bisection\"\n",
    "\n",
    "# preprocess model and start computations\n",
    "model_bisection.prepare()\n",
    "solution.incremental.solve(model_bisection, solver_bisection)\n",
    "\n",
    "# plot residuals\n",
    "post.plots.residuals(solver_bisection.monitoring)\n",
    "\n",
    "\n",
    "# plot equilibrium path and determinant of the stiffness matrix\n",
    "post.plots.equilibrium_path(\n",
    "    solver_bisection.monitoring, analytical_solution=analytical_solution_nonlinear\n",
    ")\n",
    "\n",
    "post.plots.detK_displacement(solver_bisection.monitoring)"
   ]
  },
  {
   "cell_type": "markdown",
   "metadata": {},
   "source": [
    "Check your bisection algorithm with the 3D problem provided in the next cell and perform a perturbation at the first bifurcation point.\n",
    "For this, set `solver.perturbation = True`."
   ]
  },
  {
   "cell_type": "code",
   "execution_count": null,
   "metadata": {
    "ExecuteTime": {
     "end_time": "2025-03-17T13:04:12.127933Z",
     "start_time": "2025-03-17T13:04:11.549875Z"
    }
   },
   "outputs": [],
   "source": [
    "# initialize empty model object\n",
    "model_tent = Model()\n",
    "\n",
    "# mesh\n",
    "(model_tent.nodes, model_tent.connectivity) = mesh.truss.tent()\n",
    "\n",
    "# define type of element\n",
    "model_tent.parent_element = elements.Bar(kinematics=\"nonlinear\", A=1)\n",
    "\n",
    "# material definition\n",
    "model_tent.material = materials.Hooke(E=10)\n",
    "\n",
    "# Dirichlet BCs\n",
    "bottom_nodes = [0, 2, 3, 5]\n",
    "model_tent.dirichlet_bcs = (\n",
    "    (\"fix_X\", bottom_nodes),\n",
    "    (\"fix_Y\", bottom_nodes),\n",
    "    (\"fix_Z\", bottom_nodes),\n",
    ")\n",
    "\n",
    "# point loads\n",
    "model_tent.point_loads = ((\"F_Z\", [1, 4], 5.7),)\n",
    "\n",
    "# solver parameters\n",
    "solver_tent = Solver()\n",
    "solver_tent.num_increments = 220\n",
    "solver_tent.tolerance_nr = 1e-8\n",
    "solver_tent.max_iter = 10\n",
    "solver_tent.control_method = \"arclength\"\n",
    "solver_tent.control_size = 0.07\n",
    "solver_tent.stability_analysis = True\n",
    "solver_tent.tolerance_detK = 1e-4\n",
    "solver_tent.max_bisection_iter = 20\n",
    "solver_tent.perturbation = False\n",
    "\n",
    "# get DOF used for the monitoring in the plots\n",
    "monitoring_node_dof = np.array([[1, 2]])\n",
    "solver_tent.monitoring_dof = int(\n",
    "    monitoring_node_dof[0, 0] * 3 + monitoring_node_dof[0, 1]\n",
    ")\n",
    "\n",
    "# set output directory\n",
    "solver_tent.result_dir = \"project2_tent\"\n",
    "\n",
    "# preprocess model and start computations\n",
    "model_tent.prepare()\n",
    "solution.incremental.solve(model_tent, solver_tent)\n",
    "\n",
    "# plot residuals\n",
    "post.plots.residuals(solver_tent.monitoring)\n",
    "\n",
    "# plot determinant of the stiffness matrix\n",
    "post.plots.detK_displacement(solver_tent.monitoring)\n",
    "\n",
    "# plot deformed mesh\n",
    "post.interactive.truss(solver_tent.result_dir, field=\"u\")\n"
   ]
  },
  {
   "cell_type": "markdown",
   "metadata": {},
   "source": [
    "For this project, submit this Jupyter notebook as well as the files\n",
    "\n",
    "- `solution/bisection.py`\n",
    "- `solution/arclength.py`"
   ]
  }
 ],
 "metadata": {
  "kernelspec": {
   "display_name": "nlfea_code",
   "language": "python",
   "name": "python3"
  },
  "language_info": {
   "codemirror_mode": {
    "name": "ipython",
    "version": 3
   },
   "file_extension": ".py",
   "mimetype": "text/x-python",
   "name": "python",
   "nbconvert_exporter": "python",
   "pygments_lexer": "ipython3",
   "version": "3.13.2"
  }
 },
 "nbformat": 4,
 "nbformat_minor": 2
}
